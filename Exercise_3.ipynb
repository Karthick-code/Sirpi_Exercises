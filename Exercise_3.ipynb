{
  "nbformat": 4,
  "nbformat_minor": 0,
  "metadata": {
    "colab": {
      "provenance": []
    },
    "kernelspec": {
      "name": "python3",
      "display_name": "Python 3"
    },
    "language_info": {
      "name": "python"
    }
  },
  "cells": [
    {
      "source": [
        "# from google.colab import drive\n",
        "\n",
        "# # Try unmounting first to reset any existing session.\n",
        "# drive.flush_and_unmount()\n",
        "# print('Drive unmounted.')\n",
        "\n",
        "# Now remount, granting all necessary permissions during the prompt.\n",
        "# drive.mount('/content/drive', force_remount=True)\n",
        "# print('Drive mounted successfully!')\n",
        "\n",
        "# !cp /content/drive/MyDrive/Automobile.csv /content/"
      ],
      "cell_type": "code",
      "metadata": {
        "colab": {
          "base_uri": "https://localhost:8080/"
        },
        "id": "B2c0A0yVzjt3",
        "outputId": "52774770-d35c-45f1-88a5-dd699afa8630"
      },
      "execution_count": null,
      "outputs": [
        {
          "output_type": "stream",
          "name": "stdout",
          "text": [
            "Drive unmounted.\n"
          ]
        }
      ]
    },
    {
      "cell_type": "code",
      "source": [
        "!ls"
      ],
      "metadata": {
        "colab": {
          "base_uri": "https://localhost:8080/"
        },
        "id": "G62KjXEkzwBF",
        "outputId": "7226f899-544f-4a77-ca87-c5ff69b40081"
      },
      "execution_count": null,
      "outputs": [
        {
          "output_type": "stream",
          "name": "stdout",
          "text": [
            "Automobile.csv\tsample_data\n"
          ]
        }
      ]
    },
    {
      "cell_type": "code",
      "execution_count": null,
      "metadata": {
        "colab": {
          "base_uri": "https://localhost:8080/"
        },
        "id": "jZm1tkg3m1ZN",
        "outputId": "6467a0b2-9da1-41f5-e492-465bae019a07"
      },
      "outputs": [
        {
          "output_type": "stream",
          "name": "stdout",
          "text": [
            "First 30 rows\n",
            "    symboling  normalized_losses         make fuel_type aspiration  \\\n",
            "0           3                168  alfa-romero       gas        std   \n",
            "1           3                168  alfa-romero       gas        std   \n",
            "2           1                168  alfa-romero       gas        std   \n",
            "3           2                164         audi       gas        std   \n",
            "4           2                164         audi       gas        std   \n",
            "5           2                161         audi       gas        std   \n",
            "6           1                158         audi       gas        std   \n",
            "7           1                168         audi       gas        std   \n",
            "8           1                158         audi       gas      turbo   \n",
            "9           2                192          bmw       gas        std   \n",
            "10          0                192          bmw       gas        std   \n",
            "11          0                188          bmw       gas        std   \n",
            "12          0                188          bmw       gas        std   \n",
            "13          1                149          bmw       gas        std   \n",
            "14          0                149          bmw       gas        std   \n",
            "15          0                149          bmw       gas        std   \n",
            "16          0                149          bmw       gas        std   \n",
            "17          2                121    chevrolet       gas        std   \n",
            "18          1                 98    chevrolet       gas        std   \n",
            "19          0                 81    chevrolet       gas        std   \n",
            "20          1                118        dodge       gas        std   \n",
            "21          1                118        dodge       gas        std   \n",
            "22          1                118        dodge       gas      turbo   \n",
            "23          1                148        dodge       gas        std   \n",
            "24          1                148        dodge       gas        std   \n",
            "25          1                148        dodge       gas        std   \n",
            "26          1                148        dodge       gas      turbo   \n",
            "27         -1                110        dodge       gas        std   \n",
            "28          3                145        dodge       gas      turbo   \n",
            "29          2                137        honda       gas        std   \n",
            "\n",
            "   number_of_doors   body_style drive_wheels engine_location  wheel_base  ...  \\\n",
            "0              two  convertible          rwd           front        88.6  ...   \n",
            "1              two  convertible          rwd           front        88.6  ...   \n",
            "2              two    hatchback          rwd           front        94.5  ...   \n",
            "3             four        sedan          fwd           front        99.8  ...   \n",
            "4             four        sedan          4wd           front        99.4  ...   \n",
            "5              two        sedan          fwd           front        99.8  ...   \n",
            "6             four        sedan          fwd           front       105.8  ...   \n",
            "7             four        wagon          fwd           front       105.8  ...   \n",
            "8             four        sedan          fwd           front       105.8  ...   \n",
            "9              two        sedan          rwd           front       101.2  ...   \n",
            "10            four        sedan          rwd           front       101.2  ...   \n",
            "11             two        sedan          rwd           front       101.2  ...   \n",
            "12            four        sedan          rwd           front       101.2  ...   \n",
            "13            four        sedan          rwd           front       103.5  ...   \n",
            "14            four        sedan          rwd           front       103.5  ...   \n",
            "15             two        sedan          rwd           front       103.5  ...   \n",
            "16            four        sedan          rwd           front       110.0  ...   \n",
            "17             two    hatchback          fwd           front        88.4  ...   \n",
            "18             two    hatchback          fwd           front        94.5  ...   \n",
            "19            four        sedan          fwd           front        94.5  ...   \n",
            "20             two    hatchback          fwd           front        93.7  ...   \n",
            "21             two    hatchback          fwd           front        93.7  ...   \n",
            "22             two    hatchback          fwd           front        93.7  ...   \n",
            "23            four    hatchback          fwd           front        93.7  ...   \n",
            "24            four        sedan          fwd           front        93.7  ...   \n",
            "25            four        sedan          fwd           front        93.7  ...   \n",
            "26             two        sedan          fwd           front        93.7  ...   \n",
            "27            four        wagon          fwd           front       103.3  ...   \n",
            "28             two    hatchback          fwd           front        95.9  ...   \n",
            "29             two    hatchback          fwd           front        86.6  ...   \n",
            "\n",
            "    engine_size  fuel_system  bore  stroke compression_ratio horsepower  \\\n",
            "0           130         mpfi  3.47    2.68              9.00        111   \n",
            "1           130         mpfi  3.47    2.68              9.00        111   \n",
            "2           152         mpfi  2.68    3.47              9.00        154   \n",
            "3           109         mpfi  3.19    3.40             10.00        102   \n",
            "4           136         mpfi  3.19    3.40              8.00        115   \n",
            "5           136         mpfi  3.19    3.40              8.50        110   \n",
            "6           136         mpfi  3.19    3.40              8.50        110   \n",
            "7           136         mpfi  3.19    3.40              8.50        110   \n",
            "8           131         mpfi  3.13    3.40              8.30        140   \n",
            "9           108         mpfi  3.50    2.80              8.80        101   \n",
            "10          108         mpfi  3.50    2.80              8.80        101   \n",
            "11          164         mpfi  3.31    3.19              9.00        121   \n",
            "12          164         mpfi  3.31    3.19              9.00        121   \n",
            "13          164         mpfi  3.31    3.19              9.00        121   \n",
            "14          209         mpfi  3.62    3.39              8.00        182   \n",
            "15          209         mpfi  3.62    3.39              8.00        182   \n",
            "16          209         mpfi  3.62    3.39              8.00        182   \n",
            "17           61         2bbl  2.91    3.03              9.50         48   \n",
            "18           90         2bbl  3.03    3.11              9.60         70   \n",
            "19           90         2bbl  3.03    3.11              9.60         70   \n",
            "20           90         2bbl  2.97    3.23              9.41         68   \n",
            "21           90         2bbl  2.97    3.23              9.40         68   \n",
            "22           98         mpfi  3.03    3.39              7.60        102   \n",
            "23           90         2bbl  2.97    3.23              9.40         68   \n",
            "24           90         2bbl  2.97    3.23              9.40         68   \n",
            "25           90         2bbl  2.97    3.23              9.40         68   \n",
            "26           98         mpfi  3.03    3.39              7.60        102   \n",
            "27          122         2bbl  3.34    3.46              8.50         88   \n",
            "28          156          mfi  3.60    3.90              7.00        145   \n",
            "29           92         1bbl  2.91    3.41              9.60         58   \n",
            "\n",
            "    peak_rpm city_mpg  highway_mpg  price  \n",
            "0       5000       21           27  13495  \n",
            "1       5000       21           27  16500  \n",
            "2       5000       19           26  16500  \n",
            "3       5500       24           30  13950  \n",
            "4       5500       18           22  17450  \n",
            "5       5500       19           25  15250  \n",
            "6       5500       19           25  17710  \n",
            "7       5500       19           25  18920  \n",
            "8       5500       17           20  23875  \n",
            "9       5800       23           29  16430  \n",
            "10      5800       23           29  16925  \n",
            "11      4250       21           28  20970  \n",
            "12      4250       21           28  21105  \n",
            "13      4250       20           25  24565  \n",
            "14      5400       16           22  30760  \n",
            "15      5400       16           22  41315  \n",
            "16      5400       15           20  36880  \n",
            "17      5100       47           53   5151  \n",
            "18      5400       38           43   6295  \n",
            "19      5400       38           43   6575  \n",
            "20      5500       37           41   5572  \n",
            "21      5500       31           38   6377  \n",
            "22      5500       24           30   7957  \n",
            "23      5500       31           38   6229  \n",
            "24      5500       31           38   6692  \n",
            "25      5500       31           38   7609  \n",
            "26      5500       24           30   8558  \n",
            "27      5000       24           30   8921  \n",
            "28      5000       19           24  12964  \n",
            "29      4800       49           54   6479  \n",
            "\n",
            "[30 rows x 26 columns]\n",
            "-----------------------------------------------------\n",
            "columns\n",
            "Index(['symboling', 'normalized_losses', 'make', 'fuel_type', 'aspiration',\n",
            "       'number_of_doors', 'body_style', 'drive_wheels', 'engine_location',\n",
            "       'wheel_base', 'length', 'width', 'height', 'curb_weight', 'engine_type',\n",
            "       'number_of_cylinders', 'engine_size', 'fuel_system', 'bore', 'stroke',\n",
            "       'compression_ratio', 'horsepower', 'peak_rpm', 'city_mpg',\n",
            "       'highway_mpg', 'price'],\n",
            "      dtype='object')\n",
            "-----------------------------------------------------\n",
            "No of Rows & Columns\n",
            "(201, 26)\n",
            "-----------------------------------------------------\n",
            "Data Types\n",
            "symboling                int64\n",
            "normalized_losses        int64\n",
            "make                    object\n",
            "fuel_type               object\n",
            "aspiration              object\n",
            "number_of_doors         object\n",
            "body_style              object\n",
            "drive_wheels            object\n",
            "engine_location         object\n",
            "wheel_base             float64\n",
            "length                 float64\n",
            "width                  float64\n",
            "height                 float64\n",
            "curb_weight              int64\n",
            "engine_type             object\n",
            "number_of_cylinders     object\n",
            "engine_size              int64\n",
            "fuel_system             object\n",
            "bore                   float64\n",
            "stroke                 float64\n",
            "compression_ratio      float64\n",
            "horsepower               int64\n",
            "peak_rpm                 int64\n",
            "city_mpg                 int64\n",
            "highway_mpg              int64\n",
            "price                    int64\n",
            "dtype: object\n",
            "-----------------------------------------------------\n",
            "Minimum Price\n",
            "5118\n",
            "Maximum Price\n",
            "45400\n",
            "-----------------------------------------------------\n",
            "Unique Engine Types\n",
            "['gas' 'diesel']\n",
            "-----------------------------------------------------\n",
            "Horsepower Range\n",
            "48\n",
            "262\n",
            "-----------------------------------------------------\n",
            "Average MPG in Cities\n",
            "25.17910447761194\n",
            "Average MPG in Highway\n",
            "30.686567164179106\n",
            "-----------------------------------------------------\n"
          ]
        }
      ],
      "source": [
        "'''1. Loading a CSV File & Basic Exploration\n",
        "Given a CSV file named \"Automobile.csv\":\n",
        "Task\n",
        "Write Python code to:\n",
        "Load the CSV file into a Pandas DataFrame.\n",
        "Display the first 30 rows.\n",
        "Print column names.\n",
        "Print No of Rows & Columns\n",
        "Find the Data Types of every column & check if there are any mismatch\n",
        "What are the minimum & maximum price of the car & state fuel type they belong to\n",
        "List all the unique engine types\n",
        "Find the horsepower range\n",
        "What is the average mpg in cities & highway. Which is better?\n",
        "What are the different Automobile makes present & which has maximum count?\n",
        "'''\n",
        "\n",
        "import pandas as pd\n",
        "df=pd.read_csv('Automobile.csv')\n",
        "print(\"First 30 rows\")\n",
        "print(df.head(30))\n",
        "print(\"-----------------------------------------------------\")\n",
        "print(\"columns\")\n",
        "print(df.columns)\n",
        "print(\"-----------------------------------------------------\")\n",
        "print(\"No of Rows & Columns\")\n",
        "print(df.shape)\n",
        "print(\"-----------------------------------------------------\")\n",
        "print(\"Data Types\")\n",
        "print(df.dtypes)\n",
        "print(\"-----------------------------------------------------\")\n",
        "print(\"Minimum Price\")\n",
        "print(df['price'].min())\n",
        "print(\"Maximum Price\")\n",
        "print(df['price'].max())\n",
        "print(\"-----------------------------------------------------\")\n",
        "print(\"Unique Engine Types\")\n",
        "print(df['fuel_type'].unique())\n",
        "print(\"-----------------------------------------------------\")\n",
        "print(\"Horsepower Range\")\n",
        "print(df['horsepower'].min())\n",
        "print(df['horsepower'].max())\n",
        "print(\"-----------------------------------------------------\")\n",
        "print(\"Average MPG in Cities\")\n",
        "print(df['city_mpg'].mean())\n",
        "print(\"Average MPG in Highway\")\n",
        "print(df['highway_mpg'].mean())\n",
        "print(\"-----------------------------------------------------\")\n",
        "\n"
      ]
    },
    {
      "cell_type": "code",
      "source": [
        "'''2. Accessing Data with .loc[]\n",
        "Using the following DataFrame:\n",
        "df = pd.DataFrame({\n",
        "    \"Name\": [\"Alice\", \"Bob\", \"Charlie\", \"David\"],\n",
        "    \"Age\": [24, 27, 22, 32],\n",
        "    \"Score\": [85, 90, 78, 88]\n",
        "})\n",
        "Task\n",
        "Retrieve the row where Name == \"Charlie\" using .loc[].\n",
        "Select only the Age and Score columns for \"Alice\" and \"Bob\" using .loc[].\n",
        "'''\n",
        "import pandas as pd\n",
        "df = pd.DataFrame({\n",
        "    \"Name\": [\"Alice\", \"Bob\", \"Charlie\", \"David\"],\n",
        "    \"Age\": [24, 27, 22, 32],\n",
        "    \"Score\": [85, 90, 78, 88]\n",
        "})\n",
        "print(df[df[\"Name\"] == \"Charlie\"])\n",
        "print(df.loc[df[\"Name\"].isin([\"Alice\", \"Bob\"]), [\"Age\", \"Score\"]])"
      ],
      "metadata": {
        "colab": {
          "base_uri": "https://localhost:8080/"
        },
        "id": "vkGGGghNp3T1",
        "outputId": "f3686fcf-d392-43b0-dcfd-7ba80e4b3eda"
      },
      "execution_count": null,
      "outputs": [
        {
          "output_type": "stream",
          "name": "stdout",
          "text": [
            "      Name  Age  Score\n",
            "2  Charlie   22     78\n",
            "   Age  Score\n",
            "0   24     85\n",
            "1   27     90\n"
          ]
        }
      ]
    },
    {
      "cell_type": "code",
      "source": [
        "'''3. Accessing Data with .iloc[]\n",
        "Using the same DataFrame from Question 2, write code to:\n",
        "Retrieve the second row using .iloc[].\n",
        "Extract the last two rows using .iloc[].'''\n",
        "print(df.iloc[1])\n",
        "print(df.iloc[-2:])\n"
      ],
      "metadata": {
        "colab": {
          "base_uri": "https://localhost:8080/"
        },
        "id": "4aikByxlp-Nv",
        "outputId": "8d57355c-bbd6-4fe7-884c-3cd8f4e20682"
      },
      "execution_count": null,
      "outputs": [
        {
          "output_type": "stream",
          "name": "stdout",
          "text": [
            "Name     Bob\n",
            "Age       27\n",
            "Score     90\n",
            "Name: 1, dtype: object\n",
            "      Name  Age  Score\n",
            "2  Charlie   22     78\n",
            "3    David   32     88\n"
          ]
        }
      ]
    },
    {
      "cell_type": "code",
      "source": [
        "'''4. Filtering Rows Based on Conditions\n",
        "Using the following DataFrame:\n",
        "df = pd.DataFrame({\n",
        "    \"Employee\": [\"John\", \"Alice\", \"Bob\", \"David\"],\n",
        "    \"Salary\": [50000, 60000, 55000, 65000],\n",
        "    \"Department\": [\"IT\", \"HR\", \"IT\", \"Finance\"]\n",
        "})\n",
        "Task\n",
        "Write a Pandas command to:\n",
        "Select only IT employees.\n",
        "Select employees with a salary greater than 55,000.\n",
        "'''\n",
        "import pandas as pd\n",
        "df = pd.DataFrame({\n",
        "    \"Employee\": [\"John\", \"Alice\", \"Bob\", \"David\"],\n",
        "    \"Salary\": [50000, 60000, 55000, 65000],\n",
        "    \"Department\": [\"IT\", \"HR\", \"IT\", \"Finance\"]\n",
        "})\n",
        "print(df[df[\"Department\"]==\"IT\"])\n",
        "print(df[df[\"Salary\"]>55000])\n"
      ],
      "metadata": {
        "colab": {
          "base_uri": "https://localhost:8080/"
        },
        "id": "vf3_i2Q0qGFo",
        "outputId": "dce96552-54d5-44f6-f221-93e9af260eee"
      },
      "execution_count": null,
      "outputs": [
        {
          "output_type": "stream",
          "name": "stdout",
          "text": [
            "  Employee  Salary Department\n",
            "0     John   50000         IT\n",
            "2      Bob   55000         IT\n",
            "  Employee  Salary Department\n",
            "1    Alice   60000         HR\n",
            "3    David   65000    Finance\n"
          ]
        }
      ]
    },
    {
      "cell_type": "code",
      "source": [
        "'''5. Applying Functions to a Column\n",
        "Using the following DataFrame:\n",
        "df = pd.DataFrame({\n",
        "    \"Student\": [\"A\", \"B\", \"C\", \"D\"],\n",
        "    \"Marks\": [45, 78, 62, 90]\n",
        "})\n",
        "Task\n",
        "Write a function that:\n",
        "Converts marks below 50 to \"Fail\", and 50 or above to \"Pass\".\n",
        "Apply this function to the \"Marks\" column and create a new column \"Result\".\n",
        "'''\n",
        "import pandas as pd\n",
        "df = pd.DataFrame({\n",
        "    \"Student\": [\"A\", \"B\", \"C\", \"D\"],\n",
        "    \"Marks\": [45, 78, 62, 90]\n",
        "})\n",
        "df[\"Result\"]=(df[\"Marks\"]>=50 ).replace({True:\"Pass\",False:\"Fail\"})\n",
        "print(df)"
      ],
      "metadata": {
        "colab": {
          "base_uri": "https://localhost:8080/"
        },
        "id": "remHvNinqKjC",
        "outputId": "b210a1ea-6cad-47d4-9e2b-a6c83125f372"
      },
      "execution_count": null,
      "outputs": [
        {
          "output_type": "stream",
          "name": "stdout",
          "text": [
            "  Student  Marks Result\n",
            "0       A     45   Fail\n",
            "1       B     78   Pass\n",
            "2       C     62   Pass\n",
            "3       D     90   Pass\n"
          ]
        }
      ]
    },
    {
      "cell_type": "code",
      "source": [
        "'''6. NumPy - Creating and Reshaping Arrays\n",
        "Write Python code to:\n",
        "Create a NumPy array with values from 1 to 12.\n",
        "Reshape it into a 3x4 matrix.\n",
        "'''\n",
        "import numpy as np\n",
        "arr=np.arange(1,13)\n",
        "arr=arr.reshape(3,4)\n",
        "print(arr)\n"
      ],
      "metadata": {
        "colab": {
          "base_uri": "https://localhost:8080/"
        },
        "id": "ArIWjyvEqOAe",
        "outputId": "c84ffafd-7c11-41b3-c773-fdec42759f3b"
      },
      "execution_count": null,
      "outputs": [
        {
          "output_type": "stream",
          "name": "stdout",
          "text": [
            "[[ 1  2  3  4]\n",
            " [ 5  6  7  8]\n",
            " [ 9 10 11 12]]\n"
          ]
        }
      ]
    },
    {
      "cell_type": "code",
      "source": [
        "'''7. NumPy - Broadcasting & Element-wise Operations\n",
        "You are given the following NumPy arrays:\n",
        "a = np.array([1, 2, 3])\n",
        "b = np.array([10, 20, 30])\n",
        "Task\n",
        "Perform:\n",
        "Element-wise multiplication of a and b.\n",
        "Add 5 to each element of a using broadcasting.\n",
        "'''\n",
        "import numpy as np\n",
        "a = np.array([1, 2, 3])\n",
        "b = np.array([10, 20, 30])\n",
        "print(a,b)\n",
        "print(\"Addition\",a+b)\n",
        "a=a+5\n",
        "b=b+5\n",
        "print(\"values of A,B After broadcasting\",a,b)\n"
      ],
      "metadata": {
        "colab": {
          "base_uri": "https://localhost:8080/"
        },
        "id": "JCwQUw6wqSG-",
        "outputId": "3c24a759-fcd9-4ceb-bac4-9a7a16bc4d02"
      },
      "execution_count": null,
      "outputs": [
        {
          "output_type": "stream",
          "name": "stdout",
          "text": [
            "[1 2 3] [10 20 30]\n",
            "Addition [11 22 33]\n",
            "values of A,B After broadcasting [6 7 8] [15 25 35]\n"
          ]
        }
      ]
    },
    {
      "cell_type": "code",
      "source": [
        "'''8. Finding Maximum and Minimum Values in a NumPy Array\n",
        "Given:\n",
        "arr = np.array([[3, 7, 2], [4, 9, 6]])\n",
        "Task\n",
        "Find the maximum value in the entire array.\n",
        "Find the minimum value in each row.\n",
        "'''\n",
        "import numpy as np\n",
        "arr = np.array([[3, 7, 2], [4, 9, 6]])\n",
        "print(\"Minimum:\",np.min(arr,axis=1))\n",
        "print(\"Maximum:\",arr.max())\n"
      ],
      "metadata": {
        "colab": {
          "base_uri": "https://localhost:8080/"
        },
        "id": "30GogYhpqVYo",
        "outputId": "9c798604-91e3-463a-d9df-073841945fd1"
      },
      "execution_count": null,
      "outputs": [
        {
          "output_type": "stream",
          "name": "stdout",
          "text": [
            "Minimum: [2 4]\n",
            "Maximum: 9\n"
          ]
        }
      ]
    },
    {
      "cell_type": "code",
      "source": [
        "'''9. Grouping & Aggregation in Pandas\n",
        "You have the following DataFrame:\n",
        "df = pd.DataFrame({\n",
        "    \"Department\": [\"IT\", \"HR\", \"IT\", \"Finance\", \"HR\"],\n",
        "    \"Salary\": [70000, 50000, 80000, 60000, 52000]\n",
        "})\n",
        "Task\n",
        "Write a Pandas command to:\n",
        "Group the DataFrame by \"Department\" and calculate the average salary per department.\n",
        "'''\n",
        "import pandas as pd\n",
        "df = pd.DataFrame({\n",
        "    \"Department\": [\"IT\", \"HR\", \"IT\", \"Finance\", \"HR\"],\n",
        "    \"Salary\": [70000, 50000, 80000, 60000, 52000]\n",
        "})\n",
        "print(df.groupby([\"Department\"])[\"Salary\"].mean())\n"
      ],
      "metadata": {
        "colab": {
          "base_uri": "https://localhost:8080/"
        },
        "id": "5HWYwAlqqYji",
        "outputId": "fcd0d683-bdb8-47c4-ab87-79b9ee81e59d"
      },
      "execution_count": null,
      "outputs": [
        {
          "output_type": "stream",
          "name": "stdout",
          "text": [
            "Department\n",
            "Finance    60000.0\n",
            "HR         51000.0\n",
            "IT         75000.0\n",
            "Name: Salary, dtype: float64\n"
          ]
        }
      ]
    },
    {
      "cell_type": "code",
      "source": [
        "'''10. Sorting a DataFrame\n",
        "Given the following DataFrame:\n",
        "df = pd.DataFrame({\n",
        "    \"City\": [\"New York\", \"Los Angeles\", \"Chicago\", \"Houston\"],\n",
        "    \"Population\": [8419600, 3980400, 2716000, 2328000]\n",
        "})\n",
        "Task\n",
        "Sort the DataFrame by Population in descending order.\n",
        "'''\n",
        "import pandas as pd\n",
        "df = pd.DataFrame({\n",
        "    \"City\": [\"New York\", \"Los Angeles\", \"Chicago\", \"Houston\"],\n",
        "    \"Population\": [8419600, 3980400, 2716000, 2328000]\n",
        "})\n",
        "print(df.sort_values('Population',ascending=False))\n",
        "\n"
      ],
      "metadata": {
        "colab": {
          "base_uri": "https://localhost:8080/"
        },
        "id": "U1VcRxoWqb73",
        "outputId": "40242c44-1278-43f1-8903-309c7ed90ac6"
      },
      "execution_count": null,
      "outputs": [
        {
          "output_type": "stream",
          "name": "stdout",
          "text": [
            "          City  Population\n",
            "0     New York     8419600\n",
            "1  Los Angeles     3980400\n",
            "2      Chicago     2716000\n",
            "3      Houston     2328000\n"
          ]
        }
      ]
    },
    {
      "cell_type": "code",
      "source": [
        "'''11. Multi-Indexing in Pandas\n",
        "You are given the following DataFrame:\n",
        "data = {\n",
        "    \"Region\": [\"North\", \"North\", \"South\", \"South\", \"East\", \"East\"],\n",
        "    \"City\": [\"A\", \"B\", \"A\", \"B\", \"A\", \"B\"],\n",
        "    \"Sales\": [200, 150, 180, 220, 300, 250]\n",
        "}\n",
        "df = pd.DataFrame(data).set_index([\"Region\", \"City\"])\n",
        "Task\n",
        "Retrieve the sales value for City A in the South Region using multi-indexing.'''\n",
        "import pandas as pd\n",
        "data = {\n",
        "    \"Region\": [\"North\", \"North\", \"South\", \"South\", \"East\", \"East\"],\n",
        "    \"City\": [\"A\", \"B\", \"A\", \"B\", \"A\", \"B\"],\n",
        "    \"Sales\": [200, 150, 180, 220, 300, 250]\n",
        "}\n",
        "df = pd.DataFrame(data).set_index([\"Region\", \"City\"])\n",
        "print(df.loc[(\"South\",\"A\"),\"Sales\"])"
      ],
      "metadata": {
        "colab": {
          "base_uri": "https://localhost:8080/"
        },
        "id": "jtR_eaDfqf2W",
        "outputId": "67f16440-7660-4583-8801-07cad8478c22"
      },
      "execution_count": null,
      "outputs": [
        {
          "output_type": "stream",
          "name": "stdout",
          "text": [
            "180\n"
          ]
        }
      ]
    },
    {
      "cell_type": "code",
      "source": [
        "'''12. Creating a DataFrame from a NumPy Array\n",
        "Generate a 5x4 NumPy array with random integers between 10 and 99 and convert it into a Pandas DataFrame with column names [\"A\", \"B\", \"C\", \"D\"].\n",
        "'''\n",
        "import numpy as np\n",
        "arr=np.random.randint(10,100,size=(5,4))\n",
        "df=pd.DataFrame(arr,columns=[\"A\",\"B\",\"C\",\"D\"])\n",
        "print(df)\n"
      ],
      "metadata": {
        "colab": {
          "base_uri": "https://localhost:8080/"
        },
        "id": "9uqdmEdtqjMX",
        "outputId": "443fde36-aaab-4cdc-e49f-d9ed5d4a9b1f"
      },
      "execution_count": null,
      "outputs": [
        {
          "output_type": "stream",
          "name": "stdout",
          "text": [
            "    A   B   C   D\n",
            "0  54  85  86  75\n",
            "1  76  66  52  76\n",
            "2  64  46  49  68\n",
            "3  84  69  77  52\n",
            "4  39  30  75  66\n"
          ]
        }
      ]
    },
    {
      "cell_type": "code",
      "source": [
        "'''13. Conditional Column Update\n",
        "Given the following DataFrame:\n",
        "df = pd.DataFrame({\n",
        "    \"Student\": [\"Alice\", \"Bob\", \"Charlie\", \"David\"],\n",
        "    \"Marks\": [88, 45, 76, 90],\n",
        "    \"Attendance\": [85, 50, 90, 60]\n",
        "})\n",
        "Task\n",
        "Write a one-liner Pandas command to set \"Marks\" to 0 for students whose \"Attendance\" is less than 60.\n",
        "'''\n",
        "import pandas as pd\n",
        "df = pd.DataFrame({\n",
        "    \"Student\": [\"Alice\", \"Bob\", \"Charlie\", \"David\"],\n",
        "    \"Marks\": [88, 45, 76, 90],\n",
        "    \"Attendance\": [85, 50, 90, 60]\n",
        "})\n",
        "df.loc[df[\"Attendance\"]<60 ,\"Marks\"]=0\n",
        "print(df)\n"
      ],
      "metadata": {
        "colab": {
          "base_uri": "https://localhost:8080/"
        },
        "id": "Po6lZMthqnFU",
        "outputId": "cf27b60d-52a3-4158-d31e-3e89e1e4598e"
      },
      "execution_count": null,
      "outputs": [
        {
          "output_type": "stream",
          "name": "stdout",
          "text": [
            "   Student  Marks  Attendance\n",
            "0    Alice     88          85\n",
            "1      Bob      0          50\n",
            "2  Charlie     76          90\n",
            "3    David     90          60\n"
          ]
        }
      ]
    },
    {
      "cell_type": "code",
      "source": [
        "'''14. Advanced Filtering\n",
        "From a CSV file \"employees.csv\" with columns:\n",
        "EmployeeID, Department, Salary, Experience (in years).\n",
        "Note: You should create “employees.csv” & perform the below task\n",
        "Task\n",
        "Write a Pandas query to:\n",
        "Select employees from \"IT\" or \"Finance\" department\n",
        "Having Salary > 60,000\n",
        "AND at least 5 years of experience\n",
        "'''\n",
        "data = {\n",
        "    \"EmployeeID\": [1, 2, 3, 4, 5, 6, 7],\n",
        "    \"Department\": [\"IT\", \"HR\", \"Finance\", \"IT\", \"HR\", \"Finance\", \"IT\"],\n",
        "    \"Salary\": [70000, 62000, 65000, 80000, 50000, 75000, 62000],\n",
        "    \"Experience\": [6, 4, 5, 7, 3, 8, 5]\n",
        "}\n",
        "df = pd.DataFrame(data)\n",
        "df.to_csv(\"employees.csv\", index=False)\n",
        "\n",
        "print(\"CSV file created successfully!\")\n",
        "!ls"
      ],
      "metadata": {
        "colab": {
          "base_uri": "https://localhost:8080/"
        },
        "id": "aQ3UoraZoNgO",
        "outputId": "1ec73525-d17f-49b5-a559-21dcc9c019cd"
      },
      "execution_count": 31,
      "outputs": [
        {
          "output_type": "stream",
          "name": "stdout",
          "text": [
            "CSV file created successfully!\n",
            "customer_data.csv  employees.csv  sample_data\n"
          ]
        }
      ]
    },
    {
      "cell_type": "code",
      "source": [
        "df=pd.read_csv(\"employees.csv\")\n",
        "print(\"Employees from IT or Finance department\")\n",
        "print(df[df[\"Department\"].isin(['IT', 'Finance'])])\n",
        "print(\"---------------------------------------------------\")\n",
        "print(\"Employees Having Salary > 60,000\")\n",
        "print(df[df[\"Salary\"]>60000])\n",
        "print(\"---------------------------------------------------\")\n",
        "print(\"Employees have at least 5 years of experience\")\n",
        "print(df[df[\"Experience\"]>=5])\n",
        "\n",
        "\n",
        "\n"
      ],
      "metadata": {
        "id": "7fNCWWi3qt6Y",
        "colab": {
          "base_uri": "https://localhost:8080/"
        },
        "outputId": "c80f89aa-fccb-4db7-b288-5621b9beec02"
      },
      "execution_count": 32,
      "outputs": [
        {
          "output_type": "stream",
          "name": "stdout",
          "text": [
            "Employees from IT or Finance department\n",
            "   EmployeeID Department  Salary  Experience\n",
            "0           1         IT   70000           6\n",
            "2           3    Finance   65000           5\n",
            "3           4         IT   80000           7\n",
            "5           6    Finance   75000           8\n",
            "6           7         IT   62000           5\n",
            "---------------------------------------------------\n",
            "Employees Having Salary > 60,000\n",
            "   EmployeeID Department  Salary  Experience\n",
            "0           1         IT   70000           6\n",
            "1           2         HR   62000           4\n",
            "2           3    Finance   65000           5\n",
            "3           4         IT   80000           7\n",
            "5           6    Finance   75000           8\n",
            "6           7         IT   62000           5\n",
            "---------------------------------------------------\n",
            "Employees have at least 5 years of experience\n",
            "   EmployeeID Department  Salary  Experience\n",
            "0           1         IT   70000           6\n",
            "2           3    Finance   65000           5\n",
            "3           4         IT   80000           7\n",
            "5           6    Finance   75000           8\n",
            "6           7         IT   62000           5\n"
          ]
        }
      ]
    },
    {
      "cell_type": "code",
      "source": [
        "'''15. Grouping & Aggregation with Multiple Conditions\n",
        "Given the following DataFrame:\n",
        "df = pd.DataFrame({\n",
        "    \"Department\": [\"IT\", \"HR\", \"IT\", \"Finance\", \"HR\", \"Finance\", \"IT\"],\n",
        "    \"Salary\": [70000, 50000, 80000, 60000, 52000, 72000, 65000],\n",
        "    \"Experience\": [5, 4, 7, 3, 2, 8, 6]\n",
        "})\n",
        "Task\n",
        "Find the average salary for each department, but only for employees with at least 5 years of experience.\n",
        "'''\n",
        "import pandas as pd\n",
        "df = pd.DataFrame({\n",
        "    \"Department\": [\"IT\", \"HR\", \"IT\", \"Finance\", \"HR\", \"Finance\", \"IT\"],\n",
        "    \"Salary\": [70000, 50000, 80000, 60000, 52000, 72000, 65000],\n",
        "    \"Experience\": [5, 4, 7, 3, 2, 8, 6]\n",
        "})\n",
        "df=df[df[\"Experience\"]>=5]\n",
        "print(df)\n",
        "print(df.groupby([\"Department\"])[\"Salary\"].mean())\n",
        "\n",
        "\n"
      ],
      "metadata": {
        "colab": {
          "base_uri": "https://localhost:8080/"
        },
        "id": "ftm-8PIyqxZz",
        "outputId": "df8939ec-d126-4439-df14-5e92ef1eb911"
      },
      "execution_count": null,
      "outputs": [
        {
          "output_type": "stream",
          "name": "stdout",
          "text": [
            "  Department  Salary  Experience\n",
            "0         IT   70000           5\n",
            "2         IT   80000           7\n",
            "5    Finance   72000           8\n",
            "6         IT   65000           6\n",
            "Department\n",
            "Finance    72000.000000\n",
            "IT         71666.666667\n",
            "Name: Salary, dtype: float64\n"
          ]
        }
      ]
    },
    {
      "cell_type": "code",
      "source": [
        "'''16. NumPy - Complex Indexing\n",
        "Create a 5x5 NumPy array with random values between 1 and 100.\n",
        "Write a NumPy command to:\n",
        "Extract only even numbers from the array.\n",
        "Extract values from the last row and last column.\n",
        "Replace all values greater than 50 with 0.\n",
        "'''\n",
        "import numpy as np\n",
        "arr=np.random.randint(1,101,size=(5,5))\n",
        "print(arr)\n",
        "print(\"------------------------------------\")\n",
        "print(\"Extract only even numbers from the array.\")\n",
        "print(arr[arr%2==0])\n",
        "print(\"------------------------------------\")\n",
        "print(\"Extract values from the last row and last column.\")\n",
        "print(arr[-1,:])\n",
        "print(arr[:,-1])\n",
        "print(\"------------------------------------\")\n",
        "print(\"Replace all values greater than 50 with 0.\")\n",
        "arr[arr>50]=0\n",
        "print(arr)\n",
        "\n",
        "\n"
      ],
      "metadata": {
        "colab": {
          "base_uri": "https://localhost:8080/"
        },
        "id": "-kjyrMn9q5DE",
        "outputId": "47039184-2f0a-449e-b995-5fb3d97bf175"
      },
      "execution_count": null,
      "outputs": [
        {
          "output_type": "stream",
          "name": "stdout",
          "text": [
            "[[ 5 36 44  2 92]\n",
            " [23  8 32 59 95]\n",
            " [15 35 61 73 62]\n",
            " [18 93 56  9 24]\n",
            " [27 75 22 94 86]]\n",
            "------------------------------------\n",
            "Extract only even numbers from the array.\n",
            "[36 44  2 92  8 32 62 18 56 24 22 94 86]\n",
            "------------------------------------\n",
            "Extract values from the last row and last column.\n",
            "[27 75 22 94 86]\n",
            "[92 95 62 24 86]\n",
            "------------------------------------\n",
            "Replace all values greater than 50 with 0.\n",
            "[[ 5 36 44  2  0]\n",
            " [23  8 32  0  0]\n",
            " [15 35  0  0  0]\n",
            " [18  0  0  9 24]\n",
            " [27  0 22  0  0]]\n"
          ]
        }
      ]
    },
    {
      "cell_type": "code",
      "source": [
        "'''17. Matrix Multiplication\n",
        "Given the two NumPy matrices:\n",
        "A = np.array([[2, 4], [6, 8]])\n",
        "B = np.array([[1, 3], [5, 7]])\n",
        "Task\n",
        "Perform matrix multiplication and output the result.\n",
        "'''\n",
        "import numpy as np\n",
        "A = np.array([[2, 4], [6, 8]])\n",
        "B = np.array([[1, 3], [5, 7]])\n",
        "\n",
        "print(A*B)"
      ],
      "metadata": {
        "colab": {
          "base_uri": "https://localhost:8080/"
        },
        "id": "xEy7kP27sTtp",
        "outputId": "54dee8d6-1a5a-493d-cced-0fa003ce515d"
      },
      "execution_count": null,
      "outputs": [
        {
          "output_type": "stream",
          "name": "stdout",
          "text": [
            "[[ 2 12]\n",
            " [30 56]]\n"
          ]
        }
      ]
    },
    {
      "cell_type": "code",
      "source": [
        "'''18. Finding Unique & Common Elements\n",
        "You are given two NumPy arrays:\n",
        "arr1 = np.array([10, 20, 30, 40, 50, 60])\n",
        "arr2 = np.array([30, 40, 70, 80, 90])\n",
        "Task\n",
        "Find the elements that are common in both arrays.\n",
        "Find the elements that are only present in arr1 but not in arr2.\n",
        "'''\n",
        "arr1 = np.array([10, 20, 30, 40, 50, 60])\n",
        "arr2 = np.array([30, 40, 70, 80, 90])\n",
        "print(\"common elements in both array\")\n",
        "print(np.intersect1d(arr1,arr2))\n",
        "print(\"--------------------------------------------------\")\n",
        "print(\"elements that are only present in arr1 but not in arr2\")\n",
        "print(np.setdiff1d(arr1,arr2))\n"
      ],
      "metadata": {
        "colab": {
          "base_uri": "https://localhost:8080/"
        },
        "id": "NNMWTXnfsbJ8",
        "outputId": "d2d05a8f-46ba-4b22-d866-ab0e2c3203a6"
      },
      "execution_count": null,
      "outputs": [
        {
          "output_type": "stream",
          "name": "stdout",
          "text": [
            "common elements in both array\n",
            "[30 40]\n",
            "--------------------------------------------------\n",
            "elements that are only present in arr1 but not in arr2\n",
            "[10 20 50 60]\n"
          ]
        }
      ]
    },
    {
      "cell_type": "code",
      "source": [
        "'''19. Sorting & Ranking in Pandas\n",
        "You are given the following DataFrame:\n",
        "df = pd.DataFrame({\n",
        "    \"Player\": [\"A\", \"B\", \"C\", \"D\"],\n",
        "    \"Score\": [200, 450, 300, 150]\n",
        "})\n",
        "Task\n",
        "Sort the players by descending Score.\n",
        "Assign ranking to each player (1st, 2nd, 3rd...) without skipping numbers.\n",
        "'''\n",
        "df = pd.DataFrame({\n",
        "    \"Player\": [\"A\", \"B\", \"C\", \"D\"],\n",
        "    \"Score\": [200, 450, 300, 150]\n",
        "})\n",
        "df=df.sort_values(\"Score\",ascending=False)\n",
        "df[\"Rank\"]=range(1,5)\n",
        "print(df.sort_index())\n"
      ],
      "metadata": {
        "colab": {
          "base_uri": "https://localhost:8080/"
        },
        "id": "DpGmnGHmsfJQ",
        "outputId": "10c3d5df-4540-4d5e-8a09-e9af96dced78"
      },
      "execution_count": null,
      "outputs": [
        {
          "output_type": "stream",
          "name": "stdout",
          "text": [
            "  Player  Score  Rank\n",
            "0      A    200     3\n",
            "1      B    450     1\n",
            "2      C    300     2\n",
            "3      D    150     4\n"
          ]
        }
      ]
    },
    {
      "cell_type": "code",
      "source": [
        "# from google.colab import drive\n",
        "# # Try unmounting first to reset any existing session.\n",
        "# drive.flush_and_unmount()\n",
        "# print('Drive unmounted.')\n",
        "\n",
        "# # Now remount, granting all necessary permissions during the prompt.\n",
        "# drive.mount('/content/drive', force_remount=True)\n",
        "# print('Drive mounted successfully!')\n",
        "\n",
        "# !cp /content/drive/MyDrive/customer_data.csv /content/\n",
        "!ls"
      ],
      "metadata": {
        "colab": {
          "base_uri": "https://localhost:8080/"
        },
        "id": "E1O22jcxhNvU",
        "outputId": "85c721ce-2356-4465-a218-a4425b44252e"
      },
      "execution_count": 5,
      "outputs": [
        {
          "output_type": "stream",
          "name": "stdout",
          "text": [
            "customer_data.csv  sample_data\n"
          ]
        }
      ]
    },
    {
      "cell_type": "code",
      "source": [
        "\n",
        "'''20. Optimizing Pandas Performance\n",
        "You have a large CSV file (\"big_data.csv\") with 1 million rows.\n",
        "Note: You should search & download a large csv file from any portal & use it to perform below tasks\n",
        "Task\n",
        "Write optimized Pandas code to:\n",
        "Load only specific columns: \"CustomerID\" and \"PurchaseAmount\".\n",
        "Load only the first 100,000 rows.\n",
        "Use an efficient data type for \"CustomerID\" to save memory.\n",
        "'''\n",
        "import pandas as pd\n",
        "df=pd.read_csv('customer_data.csv')\n",
        "df=df.head(100000)\n",
        "df=df[[\"id\",\"purchase_amount\"]]\n",
        "df['id']=df['id'].astype('int32')\n",
        "df.info()\n"
      ],
      "metadata": {
        "colab": {
          "base_uri": "https://localhost:8080/"
        },
        "id": "Em-FC0lksiOh",
        "outputId": "48e61ced-53d8-4bc1-fea3-9e2ca09e7a56"
      },
      "execution_count": 15,
      "outputs": [
        {
          "output_type": "stream",
          "name": "stdout",
          "text": [
            "<class 'pandas.core.frame.DataFrame'>\n",
            "RangeIndex: 100000 entries, 0 to 99999\n",
            "Data columns (total 2 columns):\n",
            " #   Column           Non-Null Count   Dtype\n",
            "---  ------           --------------   -----\n",
            " 0   id               100000 non-null  int32\n",
            " 1   purchase_amount  100000 non-null  int64\n",
            "dtypes: int32(1), int64(1)\n",
            "memory usage: 1.1 MB\n"
          ]
        }
      ]
    }
  ]
}