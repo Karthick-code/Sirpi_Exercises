{
  "nbformat": 4,
  "nbformat_minor": 0,
  "metadata": {
    "colab": {
      "provenance": []
    },
    "kernelspec": {
      "name": "python3",
      "display_name": "Python 3"
    },
    "language_info": {
      "name": "python"
    }
  },
  "cells": [
    {
      "cell_type": "code",
      "execution_count": null,
      "metadata": {
        "colab": {
          "base_uri": "https://localhost:8080/"
        },
        "id": "5EhO_KeLuLyw",
        "outputId": "3d43383d-49b9-48ce-b19a-59d7aeecb957"
      },
      "outputs": [
        {
          "output_type": "stream",
          "name": "stdout",
          "text": [
            "karthi <class 'str'>\n",
            "24 <class 'int'>\n",
            "181.5 <class 'float'>\n"
          ]
        }
      ],
      "source": [
        "'''1.Write a Python program that defines three\n",
        "types of variables:\n",
        " A string variable to store your name.\n",
        " An integer variable to store your age.\n",
        " A float variable to store your height in meters.'''\n",
        "name='karthi'\n",
        "age=24\n",
        "height=181.5\n",
        "print(name,type(name))# printing name and the type\n",
        "\n",
        "print(age,type(age)) #printing age and its type\n",
        "\n",
        "print(height,type(height)) #printing height and its type"
      ]
    },
    {
      "cell_type": "code",
      "source": [
        "'''2.Create a list of five fruits ([\"apple\", \"banana\", \"cherry\", \"date\", \"elderberry\"]):\n",
        "a) Print the first and last fruit from the list.\n",
        "b) Add a new fruit to the end of the list.\n",
        "c) Remove the second fruit from the list.\n",
        "d) Sort the list in alphabetical order and print it.'''\n",
        "\n",
        "fruits=[\"apple\", \"banana\", \"cherry\", \"date\", \"elderberry\"]\n",
        "print(fruits[0],fruits[-1]) #printing first and last fruit in list\n",
        "fruits.append(\"blueberry\") #adding new fruit\n",
        "print(fruits)\n",
        "fruits.pop(1) #removing 2nd fruit from list\n",
        "print(fruits)\n",
        "fruits.sort() #ordering the fruit list\n",
        "print(fruits)\n"
      ],
      "metadata": {
        "colab": {
          "base_uri": "https://localhost:8080/"
        },
        "id": "lBuhJGHMv2ze",
        "outputId": "288b3457-ef91-40b5-a299-6ccc061fb1d6"
      },
      "execution_count": null,
      "outputs": [
        {
          "output_type": "stream",
          "name": "stdout",
          "text": [
            "apple elderberry\n",
            "['apple', 'banana', 'cherry', 'date', 'elderberry', 'blueberry']\n",
            "['apple', 'cherry', 'date', 'elderberry', 'blueberry']\n",
            "['apple', 'blueberry', 'cherry', 'date', 'elderberry']\n"
          ]
        }
      ]
    },
    {
      "cell_type": "code",
      "source": [
        "'''3. Create a tuple to store the names of three programming languages (\"Python\", \"Java\", \"C++\"):\n",
        "a) Access the second language in the tuple.\n",
        "b) Try to replace the second language with \"JavaScript\". What happens?\n",
        "c) Convert the tuple to a list, make the modification, and convert it back to a tuple'''\n",
        "\n",
        "language=(\"Python\", \"Java\", \"C++\")\n",
        "print(language[1])\n",
        "#language[1]=\"JavaScript\" #Occurs error while trying to modify.'tuple' object does not support item assignment\n",
        "print(language)\n",
        "lang=list(language) #converting tuple to list\n",
        "lang[1]=\"JavaScript\" #trying to modify\n",
        "language=tuple(lang) #again converting list to tuple\n",
        "print(language)\n"
      ],
      "metadata": {
        "colab": {
          "base_uri": "https://localhost:8080/"
        },
        "id": "MdygRXRxi2Q0",
        "outputId": "4eeb06f1-f580-44a4-b571-eecc9ddf7cc8"
      },
      "execution_count": null,
      "outputs": [
        {
          "output_type": "stream",
          "name": "stdout",
          "text": [
            "Java\n",
            "('Python', 'Java', 'C++')\n",
            "('Python', 'JavaScript', 'C++')\n"
          ]
        }
      ]
    },
    {
      "cell_type": "code",
      "source": [
        "'''4. Create a dictionary with the following student details:\n",
        "•\tname: \"John\"\n",
        "•\tage: 18\n",
        "•\tgrade: \"A\"\n",
        "a) Access and print the value of grade.\n",
        "b) Add a new key-value pair for hobby with the value \"reading\".\n",
        "c) Delete the age key from the dictionary.'''\n",
        "\n",
        "std_det={\"name\":\"John\",\"age\":18,\"grade\":\"A\"}\n",
        "print(std_det[\"grade\"]) # printing grade value\n",
        "std_det[\"hobby\"]=\"reading\" #adding new key-value pair\n",
        "print(std_det)\n",
        "del std_det[\"age\"] # deleting age key from dictonary\n",
        "print(std_det)"
      ],
      "metadata": {
        "colab": {
          "base_uri": "https://localhost:8080/"
        },
        "id": "th5mzUackJCw",
        "outputId": "b3d0c3c8-7a20-43f7-a1eb-9b0ec6423f14"
      },
      "execution_count": null,
      "outputs": [
        {
          "output_type": "stream",
          "name": "stdout",
          "text": [
            "A\n",
            "{'name': 'John', 'age': 18, 'grade': 'A', 'hobby': 'reading'}\n",
            "{'name': 'John', 'grade': 'A', 'hobby': 'reading'}\n"
          ]
        }
      ]
    },
    {
      "cell_type": "code",
      "source": [
        "'''5. You are given the following dictionary:\n",
        "marks = {\"Math\": 85, \"Science\": 90, \"English\": 78}\n",
        "a) Find the average marks across all subjects.\n",
        "b) Update the marks for Math to 88.\n",
        "c) Check if the key \"History\" exists in the dictionary.'''\n",
        "\n",
        "marks = {\"Math\": 85, \"Science\": 90, \"English\": 78}\n",
        "sum=0\n",
        "history_ch=False\n",
        "for i in marks:\n",
        "  sum+=marks[i] # calculating sum for average\n",
        "  if(i==\"History\"):#checking history key is there or not in dictonary\n",
        "    history_ch=True\n",
        "avg=sum/len(marks)\n",
        "print(\"Average Mark=\",avg)\n",
        "marks[\"Math\"]=88 # updating math value to 88\n",
        "print(marks)\n",
        "\n",
        "if(history_ch):\n",
        "  print(\"History Key is availabe in dictonary\")\n",
        "else:\n",
        "  print(\"History key is not available in dictonary\")\n"
      ],
      "metadata": {
        "colab": {
          "base_uri": "https://localhost:8080/"
        },
        "id": "E9GoIspZlYCw",
        "outputId": "9e5c17d7-5409-4e9b-f99f-a89e1dfb1d78"
      },
      "execution_count": null,
      "outputs": [
        {
          "output_type": "stream",
          "name": "stdout",
          "text": [
            "Average Mark= 84.33333333333333\n",
            "{'Math': 88, 'Science': 90, 'English': 78}\n",
            "History key is not available in dictonary\n"
          ]
        }
      ]
    },
    {
      "cell_type": "code",
      "source": [
        "'''6. Write a Python function named square that takes an integer as input and returns its square.\n",
        "•\tCall the function with the value 7 and print the result.'''\n",
        "\n",
        "def square(x):\n",
        "  return x*x\n",
        "\n",
        "print(square(7))"
      ],
      "metadata": {
        "colab": {
          "base_uri": "https://localhost:8080/"
        },
        "id": "7kO0FJZLnAE5",
        "outputId": "9d9c61b9-d57c-4c25-c2a3-07199ebdb06c"
      },
      "execution_count": null,
      "outputs": [
        {
          "output_type": "stream",
          "name": "stdout",
          "text": [
            "49\n"
          ]
        }
      ]
    },
    {
      "cell_type": "code",
      "source": [
        "'''7. Write a Python function named greet that takes two parameters:\n",
        "•\tname (a string)\n",
        "•\tmessage (a string with a default value of \"Welcome!\")\n",
        "Call the function twice:\n",
        "1.\tOnce by providing both name and message.\n",
        "2.\tOnce by providing only name.'''\n",
        "\n",
        "def greet(name,message=\"Welcome\"):\n",
        "  return message+\" \"+ name\n",
        "\n",
        "print(greet(\"karthick\",\"Hola\"))\n",
        "print(greet(\"karthi\"))"
      ],
      "metadata": {
        "colab": {
          "base_uri": "https://localhost:8080/"
        },
        "id": "DWQ6rTlSnUkY",
        "outputId": "d4974b9f-93a2-4e95-90b7-cc00189e2297"
      },
      "execution_count": null,
      "outputs": [
        {
          "output_type": "stream",
          "name": "stdout",
          "text": [
            "Hola karthick\n",
            "Welcome karthi\n"
          ]
        }
      ]
    },
    {
      "cell_type": "code",
      "source": [
        "'''8. Write a Python function named student_info that accepts the following parameters:\n",
        "•\tname (string)\n",
        "•\tage (integer)\n",
        "•\tgrade (string, default value is \"A\")\n",
        "Call the function with:\n",
        "1.\tPositional arguments only.\n",
        "2.\tKeyword arguments only.\n",
        "Print the result in each case.'''\n",
        "\n",
        "def student_info(name,age,grade=\"A\"):\n",
        "  return f\"Student Name: {name}, Age: {age}, Grade: {grade}\"# it is a formatted string literal\n",
        "  #return name ,age , grade\n",
        "\n",
        "print(\"Positional Arguments:\",student_info(\"karthi\",24,\"A\"))\n",
        "\n",
        "print(\"Keyword Arguments:\",student_info(age=22,name=\"karthick\",grade=\"c\"))"
      ],
      "metadata": {
        "colab": {
          "base_uri": "https://localhost:8080/"
        },
        "id": "jh2OiO68n4_-",
        "outputId": "3d7bc91b-be6a-4192-b925-4b113678a52f"
      },
      "execution_count": null,
      "outputs": [
        {
          "output_type": "stream",
          "name": "stdout",
          "text": [
            "Positional Arguments: ('karthi', 24, 'A')\n",
            "Keyword Arguments: ('karthick', 22, 'c')\n"
          ]
        }
      ]
    },
    {
      "cell_type": "code",
      "source": [
        "'''9. Write a Python program with the following requirements:\n",
        "a) Create a list of numbers: [10, 20, 30, 40, 50].\n",
        "b) Define a function named double_values that takes a list as input and returns a new list with each value doubled.\n",
        "c) Pass the list to the function and print the returned list.'''\n",
        "\n",
        "list_of_numbers= [10, 20, 30, 40, 50]# creating a list\n",
        "def double_values(num): # creating function to return list with each value doubled\n",
        "  new_list=[]\n",
        "  for i in range(0,len(num)):\n",
        "    new_list.append(num[i]*2)\n",
        "  return new_list\n",
        "\n",
        "print(double_values(list_of_numbers)) #passing value and printing\n"
      ],
      "metadata": {
        "colab": {
          "base_uri": "https://localhost:8080/"
        },
        "id": "0Az5XVvOo4Ao",
        "outputId": "a0c3d323-13f2-448d-b018-737c80c94e34"
      },
      "execution_count": null,
      "outputs": [
        {
          "output_type": "stream",
          "name": "stdout",
          "text": [
            "[20, 40, 60, 80, 100]\n"
          ]
        }
      ]
    },
    {
      "cell_type": "code",
      "source": [
        "'''10. Create a dictionary named students to store the names and grades of three students:\n",
        "students = {\"Alice\": 85, \"Bob\": 78, \"Eve\": 92}\n",
        "a) Write a function named add_student that accepts a dictionary, a student name, and a grade, then adds the student to the dictionary.\n",
        "b) Write another function named average_grade that calculates the average grade of all students in the dictionary.\n",
        "Call the functions to:\n",
        "1.\tAdd a new student (\"David\": 88).\n",
        "2.\tCalculate and print the average grade.'''\n",
        "\n",
        "students = {\"Alice\": 85, \"Bob\": 78, \"Eve\": 92}\n",
        "\n",
        "def add_student(std,name,grade):\n",
        "  std[name]=grade\n",
        "  return std\n",
        "\n",
        "def average_grade(std):\n",
        "  sum=0\n",
        "  for keys in std:\n",
        "    sum+=std[keys]\n",
        "  avg=sum/len(std)\n",
        "  return avg\n",
        "\n",
        "name=input(\"Enter Name:\")\n",
        "grade=int(input(\"Enter Grade:\"))\n",
        "print(add_student(students,name,grade))\n",
        "\n",
        "print(average_grade(students))\n",
        "\n"
      ],
      "metadata": {
        "colab": {
          "base_uri": "https://localhost:8080/"
        },
        "id": "w8FACpvMrU-X",
        "outputId": "4d5835a8-09b9-4f53-c3d7-508bfb8df702"
      },
      "execution_count": null,
      "outputs": [
        {
          "output_type": "stream",
          "name": "stdout",
          "text": [
            "Enter Name:David\n",
            "Enter Grade:87\n",
            "{'Alice': 85, 'Bob': 78, 'Eve': 92, 'David': 87}\n",
            "85.5\n"
          ]
        }
      ]
    }
  ]
}