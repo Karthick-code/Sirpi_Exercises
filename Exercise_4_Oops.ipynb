{
  "nbformat": 4,
  "nbformat_minor": 0,
  "metadata": {
    "colab": {
      "provenance": [],
      "authorship_tag": "ABX9TyN5EFuhzJSV+R+ks0IjdnHx",
      "include_colab_link": true
    },
    "kernelspec": {
      "name": "python3",
      "display_name": "Python 3"
    },
    "language_info": {
      "name": "python"
    }
  },
  "cells": [
    {
      "cell_type": "markdown",
      "metadata": {
        "id": "view-in-github",
        "colab_type": "text"
      },
      "source": [
        "<a href=\"https://colab.research.google.com/github/Karthick-code/Sirpi_Exercises/blob/main/Exercise_4_Oops.ipynb\" target=\"_parent\"><img src=\"https://colab.research.google.com/assets/colab-badge.svg\" alt=\"Open In Colab\"/></a>"
      ]
    },
    {
      "cell_type": "markdown",
      "source": [
        "Case Study: Library Management System\n",
        "Scenario:\n",
        "You are designing a Library Management System that allows users to borrow and return books. The system should support different types of users (Students, Professors) and different types of books (Physical books, E-books). The system should also ensure data security by preventing unauthorized access to certain attributes.\n",
        "Requirements:\n",
        "Implement a Book class with details like title, author, isbn, and availability_status.\n",
        "Implement a User class that holds name and user_type (either \"Student\" or \"Professor\").\n",
        "Use Inheritance to create specialized user types (Student, Professor) with different borrowing limits.\n",
        "Use Encapsulation to ensure that certain data (like the number of copies available) is not modified directly.\n",
        "Use Polymorphism to allow different types of books (e.g., PhysicalBook and EBook) to implement a common method for checking availability.\n",
        "Use Abstraction to define a common structure for Book that must be implemented by all book types.\n",
        "\n",
        "Questions:\n",
        "1. Encapsulation\n",
        "Why is __copies defined as a private attribute in PhysicalBook?\n",
        "How can we modify __copies safely without directly accessing it?\n",
        "2. Inheritance\n",
        "What is the purpose of Student and Professor classes inheriting from User?\n",
        "If a new type of user (e.g., Librarian) needs to be added, how can it be done?\n",
        "3. Polymorphism\n",
        "Both PhysicalBook and EBook implement check_availability(). How does this demonstrate polymorphism?\n",
        "Modify the program so that EBook also has a borrow method, but does not reduce copies when borrowed.\n",
        "4. Abstraction\n",
        "Why do we declare Book as an abstract class instead of using it directly?\n",
        "What will happen if we try to create an object of Book?\n",
        "\n",
        "5. Real-World Application\n",
        "How would you extend this program to track borrowed books per user?\n",
        "If books have different borrowing durations (e.g., E-books for 14 days, Physical books for 30 days), how would you implement that?\n",
        "\n",
        "Bonus Task: Extend the Case Study\n",
        "Implement a Librarian class who can add new books to the system.\n",
        "Implement a Book Catalog that stores multiple books and allows users to search for a book by title or author.\n",
        "\n"
      ],
      "metadata": {
        "id": "vlVWdnbpqgxI"
      }
    },
    {
      "cell_type": "code",
      "execution_count": 27,
      "metadata": {
        "id": "V-DtWeZ8ptPK"
      },
      "outputs": [],
      "source": [
        "from abc import abstractmethod\n",
        "\n",
        "class Book:\n",
        "  __copies=0\n",
        "  def __init__(self,title,author,isbn):\n",
        "    self.title=title\n",
        "    self.author=author\n",
        "    self.isbn=isbn\n",
        "  def get_copies(self):\n",
        "    return self.__copies\n",
        "  def set_copies(self,copies):\n",
        "    self.__copies=copies\n",
        "  @abstractmethod\n",
        "  def check_availability(self):\n",
        "    pass\n",
        "  @abstractmethod\n",
        "  def borrow(self):\n",
        "    pass\n",
        "  @abstractmethod\n",
        "  def return_book(self):\n",
        "    pass\n",
        "class PhysicalBook(Book):\n",
        "  def __init__(self,title,author,isbn,copies):\n",
        "    super().__init__(title,author,isbn)\n",
        "    self.__copies=copies\n",
        "  def check_availability(self):\n",
        "    if self.__copies>0:\n",
        "      return True\n",
        "    else:\n",
        "      return False\n",
        "  def borrow(self):\n",
        "    if self.check_availability():\n",
        "      self.__copies-=1\n",
        "      return \"Book Available\"\n",
        "    else:\n",
        "      return \"Bok not Available\"\n",
        "  def return_book(self):\n",
        "    self.__copies+=1\n",
        "class Ebooks(Book):\n",
        "  def __init__(self,title,author,isbn):\n",
        "    super().__init__(title,author,isbn)\n",
        "  def borrow(self):\n",
        "    return True\n",
        "  def check_availability(self):\n",
        "    return True"
      ]
    },
    {
      "cell_type": "code",
      "source": [
        "class User:\n",
        "  def __init__(self,name,user_type):\n",
        "    self.name=name\n",
        "    self.user_type=user_type\n",
        "class Student(User):\n",
        "  borrow_limit=3\n",
        "  def __init__(self,name,user_type):\n",
        "    super().__init__(name,user_type)\n",
        "\n",
        "class Professor(User):\n",
        "  borrow_limit=7\n",
        "  def __init__(self,name,user_type):\n",
        "    super().__init__(name,user_type)"
      ],
      "metadata": {
        "id": "g_j9VPs-8uPv"
      },
      "execution_count": 8,
      "outputs": []
    },
    {
      "cell_type": "code",
      "source": [
        "s1=Student(name=\"john\",user_type=\"student\")\n",
        "p1=Professor(name=\"john\",user_type=\"professor\")\n",
        "print(s1.user_type)\n",
        "print(p1.user_type)\n",
        "b1=PhysicalBook(\"Harry-Potter\",\"JK\",\"123\",2)\n",
        "x=b1.check_availability()\n",
        "print(x)\n",
        "y=b1.borrow()\n",
        "print(y)\n",
        "p=b1.borrow()\n",
        "print(p)\n",
        "p=b1.borrow()\n",
        "print(p)\n",
        "z=b1.check_availability()\n",
        "print(z)\n"
      ],
      "metadata": {
        "id": "oKyrGslJBECh",
        "colab": {
          "base_uri": "https://localhost:8080/"
        },
        "outputId": "3027cb1b-8834-4e8e-9bd1-407a63a80f65"
      },
      "execution_count": 29,
      "outputs": [
        {
          "output_type": "stream",
          "name": "stdout",
          "text": [
            "student\n",
            "professor\n",
            "True\n",
            "Book Available\n",
            "Book Available\n",
            "Bok not Available\n",
            "False\n"
          ]
        }
      ]
    },
    {
      "source": [
        "'''Questions\n",
        "1.Encapsulation\n",
        "Why is __copies defined as a private attribute in PhysicalBook?\n",
        "#Ans Private attributes must be declared using double underscore which is not accessible outside the class.\n",
        "How can we modify __copies safely without directly accessing it?\n",
        "#Ans we can access __copies only in the parent class and not outside the class. if we want to acces indirectly we need getter and setter method to access it.\n",
        "'''"
      ],
      "cell_type": "code",
      "metadata": {
        "id": "M-BSUOZ1No84"
      },
      "execution_count": 18,
      "outputs": []
    },
    {
      "cell_type": "code",
      "source": [
        "'''2. Inheritance\n",
        "What is the purpose of Student and Professor classes inheriting from User?\n",
        "#Ans the purpose is the student and professor classes can inherit variables and methods of user class\n",
        "'''"
      ],
      "metadata": {
        "id": "DmwBYAneBuB-"
      },
      "execution_count": null,
      "outputs": []
    },
    {
      "cell_type": "code",
      "source": [
        "# If a new type of user (e.g., Librarian) needs to be added, how can it be done?\n",
        "class Librarian(User):\n",
        "  def __init__(self,name,user_type=\"Librarian\"):\n",
        "    super().__init__(name,user_type)\n"
      ],
      "metadata": {
        "id": "t-xMLy_ZB5XE"
      },
      "execution_count": null,
      "outputs": []
    },
    {
      "cell_type": "code",
      "source": [
        "'''3. Polymorphism\n",
        "Both PhysicalBook and EBook implement check_availability(). How does this demonstrate polymorphism?\n",
        "    ->check_availability() is a concept of method over riding which means reuseing the method of parent class.\n",
        "'''"
      ],
      "metadata": {
        "id": "nlCO4sgBBHGI"
      },
      "execution_count": null,
      "outputs": []
    },
    {
      "cell_type": "code",
      "source": [
        "# Modify the program so that EBook also has a borrow method, but does not reduce copies when borrowed.\n",
        "    #Ans I already implemented without including copies for ebooks, because there is no limit for ebooks\n",
        "class Ebooks(Book):\n",
        "  def __init__(self,title,author,isbn):\n",
        "    super().__init__(title,author,isbn)\n",
        "  def borrow(self):\n",
        "    return True\n",
        "  def check_availability(self):\n",
        "    return True\n"
      ],
      "metadata": {
        "id": "4srwEo5CB666"
      },
      "execution_count": null,
      "outputs": []
    },
    {
      "cell_type": "code",
      "source": [
        "'''4. Abstraction\n",
        "Why do we declare Book as an abstract class instead of using it directly?\n",
        "    #Ans Book class can also be implemented with abstract class. but i have implemented it with normal class.\n",
        "What will happen if we try to create an object of Book?\n",
        "    #Ans we can't create an object for abstract class. if we try creating an object for abstract class it will throw an error\n",
        "'''"
      ],
      "metadata": {
        "id": "bCgh02AvB-eR"
      },
      "execution_count": null,
      "outputs": []
    },
    {
      "cell_type": "code",
      "source": [
        "# 5. Real-World Application\n",
        "# How would you extend this program to track borrowed books per user?\n",
        "    #Ans  -> we can  create an dictionary which stores book names for each user like user name as key and list for books borrowed as values in dictionary\n"
      ],
      "metadata": {
        "id": "4AN9gN1sCEUq"
      },
      "execution_count": null,
      "outputs": []
    },
    {
      "cell_type": "code",
      "source": [
        "# If books have different borrowing durations (e.g., E-books for 14 days, Physical books for 30 days), how would you implement that?\n",
        "  #Ans -> we can create an abstract method named borrowing_duration in book and implement the limits for Ebooks class and physical books class.\n"
      ],
      "metadata": {
        "id": "7pCgCXYBCIPJ"
      },
      "execution_count": null,
      "outputs": []
    }
  ]
}