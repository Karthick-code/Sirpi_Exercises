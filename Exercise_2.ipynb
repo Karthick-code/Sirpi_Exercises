{
  "nbformat": 4,
  "nbformat_minor": 0,
  "metadata": {
    "colab": {
      "provenance": []
    },
    "kernelspec": {
      "name": "python3",
      "display_name": "Python 3"
    },
    "language_info": {
      "name": "python"
    }
  },
  "cells": [
    {
      "cell_type": "code",
      "execution_count": null,
      "metadata": {
        "id": "clebLzc1J4UF",
        "colab": {
          "base_uri": "https://localhost:8080/"
        },
        "outputId": "959a0181-6dfd-4ff5-f349-255557d59e95"
      },
      "outputs": [
        {
          "output_type": "stream",
          "name": "stdout",
          "text": [
            "before swapping: 10 20\n",
            "After Swapping:  20 10\n"
          ]
        }
      ],
      "source": [
        "'''Write a Python program that swaps two numbers without using a third variable.'''\n",
        "x=10\n",
        "y=20\n",
        "print(\"before swapping:\",x,y)\n",
        "x=x+y\n",
        "y=x-y\n",
        "x=x-y\n",
        "print(\"After Swapping: \",x,y)"
      ]
    },
    {
      "cell_type": "code",
      "source": [
        "'''You have a nested list:\n",
        "data = [[1, 2, 3], [4, 5, 6], [7, 8, 9]]\n",
        "a) Extract and print the middle element from the nested list.\n",
        "b) Flatten the list into a single list [1, 2, 3, 4, 5, 6, 7, 8, 9] without using loops.'''\n",
        "data = [[1, 2, 3], [4,5,6], [7, 8, 9]]\n",
        "print(data[1][1])\n",
        "print([a for x in data for a in x])\n"
      ],
      "metadata": {
        "id": "6rmxh6u1qqPS",
        "outputId": "a80fcf9a-711a-44f2-b13d-7aba5ef87f05",
        "colab": {
          "base_uri": "https://localhost:8080/"
        }
      },
      "execution_count": null,
      "outputs": [
        {
          "output_type": "stream",
          "name": "stdout",
          "text": [
            "5\n",
            "[1, 2, 3, 4, 5, 6, 7, 8, 9]\n"
          ]
        }
      ]
    },
    {
      "cell_type": "code",
      "source": [
        "'''3. Tuples - Tuple Unpacking\n",
        "Given:\n",
        "values = (100, 200, 300)\n",
        "a) Unpack this tuple into three variables and print them.\n",
        "b) Swap the values without using a temporary variable.'''\n",
        "values = (100, 200, 300)\n",
        "x,y,z=values\n",
        "x=x+y\n",
        "y=x-y\n",
        "x=x-y\n",
        "y=y+z\n",
        "z=y-z\n",
        "y=y-z\n",
        "print(x,y,z)\n"
      ],
      "metadata": {
        "id": "U02g_EGhrtha",
        "colab": {
          "base_uri": "https://localhost:8080/"
        },
        "outputId": "fcc54244-592e-4141-d996-03671df5ee1b"
      },
      "execution_count": null,
      "outputs": [
        {
          "output_type": "stream",
          "name": "stdout",
          "text": [
            "200 300 100\n"
          ]
        }
      ]
    },
    {
      "cell_type": "code",
      "source": [
        "'''4. Dictionary - Complex Keys\n",
        "Create a dictionary where:\n",
        "•   Keys are tuples representing (x, y) coordinates.\n",
        "•   Values are the sum of x and y.\n",
        "Example:\n",
        "{ (1,2): 3, (3,4): 7, (5,6): 11 }\n",
        "Write a function to retrieve the sum for a given coordinate'''\n",
        "dict1={(1,2):3,(3,4):7,(5,6):11}\n",
        "print(dict1)\n",
        "def retrive_sum(x,y):\n",
        "  return dict1.get((x,y))\n",
        "print(retrive_sum(13,2))\n",
        "\n"
      ],
      "metadata": {
        "id": "uSC-cV8Jr0cY",
        "colab": {
          "base_uri": "https://localhost:8080/"
        },
        "outputId": "90603f29-933e-48b8-d557-9c60ead3fe07"
      },
      "execution_count": null,
      "outputs": [
        {
          "output_type": "stream",
          "name": "stdout",
          "text": [
            "{(1, 2): 3, (3, 4): 7, (5, 6): 11}\n",
            "None\n"
          ]
        }
      ]
    },
    {
      "cell_type": "code",
      "source": [
        "'''5. Functions - Nested Functions\n",
        "Write a function outer_function(a, b) that:\n",
        "•   Contains an inner function to calculate a² + b².\n",
        "•   Returns the result.\n",
        "Call outer_function(3, 4) and print the result.'''\n",
        "\n",
        "def outer_fun(x,y):\n",
        "  def inner_fun(a,b):\n",
        "    return (a*a)+(b*b)\n",
        "  return inner_fun(x,y)\n",
        "print(outer_fun(2,3))"
      ],
      "metadata": {
        "id": "N_oEOuORr86n",
        "colab": {
          "base_uri": "https://localhost:8080/"
        },
        "outputId": "ba1ace41-d630-4007-81e0-26cdcf1cdae7"
      },
      "execution_count": null,
      "outputs": [
        {
          "output_type": "stream",
          "name": "stdout",
          "text": [
            "1\n"
          ]
        }
      ]
    },
    {
      "cell_type": "code",
      "source": [
        "'''6. Functions - Lambda & Map\n",
        "You are given a list:\n",
        "numbers = [1, 2, 3, 4, 5]\n",
        "Use a lambda function and map() to generate a list where each number is cubed.'''\n",
        "\n",
        "numbers=[1,2,3,4,5]\n",
        "# lam=lambda fun: fun*fun*fun\n",
        "# num_lis=[]\n",
        "# for i in range(0,len(numbers)):\n",
        "#   num_lis.append(lam(numbers[i]))\n",
        "# print(num_lis)\n",
        "\n",
        "\n",
        "print(list(map(lambda n: n*n*n, numbers)))"
      ],
      "metadata": {
        "id": "8Keie--lsDwX",
        "colab": {
          "base_uri": "https://localhost:8080/"
        },
        "outputId": "f0f75ef4-dd34-4fbc-9f41-5fc9e4840cc7"
      },
      "execution_count": null,
      "outputs": [
        {
          "output_type": "stream",
          "name": "stdout",
          "text": [
            "[1, 8, 27, 64, 125]\n"
          ]
        }
      ]
    },
    {
      "cell_type": "code",
      "source": [
        "'''\n",
        "\n",
        "\n",
        "7. Functions - Recursion\n",
        "Write a recursive function to\n",
        "calculate the sum of digits of a given number.\n",
        "Example:\n",
        "Input: 1234\n",
        "Output: 10\n",
        "(1+2+3+4)'''\n",
        "def rec_sum(x):\n",
        "  sum=0\n",
        "  if(x>9):\n",
        "    sum+=x%10\n",
        "    return sum+ rec_sum(int(x/10))\n",
        "  else:\n",
        "    return sum+x\n",
        "ui=int(input(\"enter a number: \"))\n",
        "print(rec_sum(ui))\n"
      ],
      "metadata": {
        "id": "mqk7cP3AsTt9",
        "colab": {
          "base_uri": "https://localhost:8080/"
        },
        "outputId": "c117da29-f95f-46bf-c38e-0c00eb1eeda7"
      },
      "execution_count": null,
      "outputs": [
        {
          "output_type": "stream",
          "name": "stdout",
          "text": [
            "enter a number: 2342345\n",
            "23\n"
          ]
        }
      ]
    },
    {
      "cell_type": "code",
      "source": [
        "'''8. List Comprehensions\n",
        "Generate a list of all numbers between 1 and 100 that:\n",
        "•\tAre divisible by 5\n",
        "•\tBut not by 3\n",
        "Use list comprehension.'''\n",
        "list1=[i for i in range(1,100) if i%5==0 if i%3!=0]\n",
        "print(list1)"
      ],
      "metadata": {
        "id": "-BaQhIB4seQq",
        "colab": {
          "base_uri": "https://localhost:8080/"
        },
        "outputId": "1bb5bd35-6a30-46d9-c241-36aafcbff4d2"
      },
      "execution_count": null,
      "outputs": [
        {
          "output_type": "stream",
          "name": "stdout",
          "text": [
            "[5, 10, 20, 25, 35, 40, 50, 55, 65, 70, 80, 85, 95]\n"
          ]
        }
      ]
    },
    {
      "cell_type": "code",
      "source": [
        "'''9. Dictionary - Sorting by Values\n",
        "Given:\n",
        "scores = {\"Alice\": 90, \"Bob\": 85, \"Eve\": 92}\n",
        "Sort this dictionary by values in descending order and print the result'''\n",
        "scores = {\"Alice\": 90, \"Bob\": 85, \"Eve\": 92}\n",
        "output = dict(sorted(scores.items(), key=lambda item: item[1], reverse=True))\n",
        "\n",
        "print(output)"
      ],
      "metadata": {
        "id": "F4W4Am0Lslxa",
        "colab": {
          "base_uri": "https://localhost:8080/"
        },
        "outputId": "225cec1b-fce2-4d92-9b8c-7383ea660a70"
      },
      "execution_count": null,
      "outputs": [
        {
          "output_type": "stream",
          "name": "stdout",
          "text": [
            "{'Eve': 92, 'Alice': 90, 'Bob': 85}\n"
          ]
        }
      ]
    },
    {
      "cell_type": "code",
      "source": [
        "'''10. Sets - Unique Characters\n",
        "Write a Python function that takes a string as input and returns:\n",
        "•   A set of unique characters in the string.\n",
        "•   The number of unique characters.\n",
        "Example:\n",
        "Input: \"hello\"\n",
        "Output: {'h', 'e', 'l', 'o'}, 4'''\n",
        "def unique_char(str):\n",
        "  char={}\n",
        "  for i in str:\n",
        "    char[i] = char.get(i, 0) + 1\n",
        "  return  char.keys(),len(char)\n",
        "print(unique_char(\"Hello\"))"
      ],
      "metadata": {
        "id": "LBML3PDBtz1O",
        "colab": {
          "base_uri": "https://localhost:8080/"
        },
        "outputId": "57ecf0a0-0fb5-4491-8150-db161c49e886"
      },
      "execution_count": null,
      "outputs": [
        {
          "output_type": "stream",
          "name": "stdout",
          "text": [
            "(dict_keys(['H', 'e', 'l', 'o']), 4)\n"
          ]
        }
      ]
    },
    {
      "cell_type": "code",
      "source": [
        "'''11. Tuples - Finding Common Elements\n",
        "Given two tuples:\n",
        "t1 = (1, 2, 3, 4, 5)\n",
        "t2 = (4, 5, 6, 7, 8)\n",
        "Find and print the common elements.'''\n",
        "t1 = (1, 2, 3, 4, 5)\n",
        "t2 = (4, 5, 6, 7, 8)\n",
        "common = tuple(set(t1) & set(t2))\n",
        "print(common)\n"
      ],
      "metadata": {
        "id": "CRAiNgFst1VL",
        "colab": {
          "base_uri": "https://localhost:8080/"
        },
        "outputId": "3e52557a-f694-44a7-9142-dcf121865d18"
      },
      "execution_count": null,
      "outputs": [
        {
          "output_type": "stream",
          "name": "stdout",
          "text": [
            "(4, 5)\n"
          ]
        }
      ]
    },
    {
      "cell_type": "code",
      "source": [
        "'''12. Dictionary - Reverse Key-Value Mapping\n",
        "Given a dictionary:\n",
        "data = {\"A\": 1, \"B\": 2, \"C\": 3}\n",
        "Write a program to swap keys and values:\n",
        "Output: {1: \"A\", 2: \"B\", 3: \"C\"}'''\n",
        "data = {\"A\": 1, \"B\": 2, \"C\": 3}\n",
        "new_dict=dict([(value, key) for key, value in data.items()])\n",
        "print(new_dict)"
      ],
      "metadata": {
        "id": "9242x715t5m0",
        "colab": {
          "base_uri": "https://localhost:8080/"
        },
        "outputId": "d25d3450-6cea-4196-95d5-9996aaa7366c"
      },
      "execution_count": null,
      "outputs": [
        {
          "output_type": "stream",
          "name": "stdout",
          "text": [
            "{1: 'A', 2: 'B', 3: 'C'}\n"
          ]
        }
      ]
    },
    {
      "cell_type": "code",
      "source": [
        "'''13. Functions - Multiple Return Values\n",
        "Write a function that takes two numbers as input and returns:\n",
        "1.  Their sum\n",
        "2.  Their difference\n",
        "3.  Their product\n",
        "4.  Their quotient\n",
        "Print all four results.'''\n",
        "\n",
        "def multiple_ret(x,y):\n",
        "  return x+y, x-y, x*y, int(x/y)\n",
        "\n",
        "x=int(input(\"enter first numer: \"))\n",
        "y=int(input(\"enter second number: \"))\n",
        "print(multiple_ret(x,y))"
      ],
      "metadata": {
        "id": "jhrU7VAXt-hb",
        "colab": {
          "base_uri": "https://localhost:8080/"
        },
        "outputId": "fb116aad-6b39-4094-e5b0-621986cf8e71"
      },
      "execution_count": null,
      "outputs": [
        {
          "output_type": "stream",
          "name": "stdout",
          "text": [
            "enter first numer: 6\n",
            "enter second number: 2\n",
            "(8, 4, 12, 3)\n"
          ]
        }
      ]
    },
    {
      "cell_type": "code",
      "source": [
        "'''14. List - Finding Second Largest Number\n",
        "Write a function to find the second largest number in a given list without using sort().\n",
        "Example:\n",
        "Input: [10, 20, 4, 45, 99]\n",
        "Output: 45'''\n",
        "data= [10, 20, 4, 45, 99]\n",
        "max1=max2=data[0]\n",
        "for i in data:\n",
        "  if i >max1:\n",
        "    max2=max1\n",
        "    max1=i\n",
        "  elif i > max2 and i != max1:\n",
        "    max2=i\n",
        "print(max2)"
      ],
      "metadata": {
        "id": "rmUeYfCsuFyT",
        "colab": {
          "base_uri": "https://localhost:8080/"
        },
        "outputId": "ec67bcd1-72ba-4d44-c5b5-23974d216578"
      },
      "execution_count": null,
      "outputs": [
        {
          "output_type": "stream",
          "name": "stdout",
          "text": [
            "45\n"
          ]
        }
      ]
    },
    {
      "cell_type": "code",
      "source": [
        "'''15. List - Pair Sum Problem\n",
        "Given a list of numbers and a target sum, find all pairs in the list that add up to the target.\n",
        "Example:\n",
        "Input: [2, 4, 3, 7, 1, 9], Target: 10\n",
        "Output: [(3, 7), (1, 9)]'''\n",
        "list1=[2, 4, 3, 7, 1, 9]\n",
        "target=10\n",
        "\n",
        "\n",
        "\n",
        "def pair_sum(num,tg):\n",
        "  new_list=[]\n",
        "  for i in range(0,len(num)-1):\n",
        "    for j in range(i+1,len(num)):\n",
        "      if((num[i]+num[j])==tg):\n",
        "        print(num[i],num[j])\n",
        "        new_list.append((num[i],num[j]))\n",
        "\n",
        "  return new_list\n",
        "\n",
        "print(pair_sum(list1,target))"
      ],
      "metadata": {
        "id": "TFwMd4g3uJVA",
        "colab": {
          "base_uri": "https://localhost:8080/"
        },
        "outputId": "afb0e54e-1ac3-4239-9aed-179220d30256"
      },
      "execution_count": null,
      "outputs": [
        {
          "output_type": "stream",
          "name": "stdout",
          "text": [
            "3 7\n",
            "1 9\n",
            "[(3, 7), (1, 9)]\n"
          ]
        }
      ]
    },
    {
      "cell_type": "code",
      "source": [
        "'''16. Pandas - Filtering DataFrame\n",
        "You are given the following Pandas DataFrame:\n",
        "import pandas as pd\n",
        "df = pd.DataFrame({\n",
        "    \"Name\": [\"Alice\", \"Bob\", \"Charlie\", \"David\"],\n",
        "    \"Age\": [24, 27, 22, 32],\n",
        "    \"Score\": [85, 90, 78, 88]\n",
        "})\n",
        "Write a one-liner to filter and display only rows where Age is greater than 25.'''\n",
        "\n",
        "import pandas as pd\n",
        "df = pd.DataFrame({\n",
        "    \"Name\": [\"Alice\", \"Bob\", \"Charlie\", \"David\"],\n",
        "    \"Age\": [24, 27, 22, 32],\n",
        "    \"Score\": [85, 90, 78, 88]\n",
        "})\n",
        "print( df[df['Age'] > 25] )\n"
      ],
      "metadata": {
        "id": "GWsma0B5uMhc",
        "colab": {
          "base_uri": "https://localhost:8080/"
        },
        "outputId": "3375a12f-6c0a-4638-b6e1-4669e3161a3e"
      },
      "execution_count": null,
      "outputs": [
        {
          "output_type": "stream",
          "name": "stdout",
          "text": [
            "    Name  Age  Score\n",
            "1    Bob   27     90\n",
            "3  David   32     88\n"
          ]
        }
      ]
    },
    {
      "cell_type": "code",
      "source": [
        "'''17. Pandas - Group By Operation\n",
        "You have the following DataFrame:\n",
        "df = pd.DataFrame({\n",
        "    \"Department\": [\"IT\", \"HR\", \"IT\", \"Finance\", \"HR\"],\n",
        "    \"Salary\": [70000, 50000, 80000, 60000, 52000]\n",
        "})\n",
        "Write a Pandas command to calculate the average salary per department.'''\n",
        "import pandas as pd\n",
        "df = pd.DataFrame({\n",
        "    \"Department\": [\"IT\", \"HR\", \"IT\", \"Finance\", \"HR\"],\n",
        "    \"Salary\": [70000, 50000, 80000, 60000, 52000]\n",
        "})\n",
        "print(df.groupby('Department')['Salary'].mean())\n"
      ],
      "metadata": {
        "colab": {
          "base_uri": "https://localhost:8080/"
        },
        "id": "YJGSBYD0uU0S",
        "outputId": "bd531084-03bf-45f4-92be-76154a47034f"
      },
      "execution_count": null,
      "outputs": [
        {
          "output_type": "stream",
          "name": "stdout",
          "text": [
            "Department\n",
            "Finance    60000.0\n",
            "HR         51000.0\n",
            "IT         75000.0\n",
            "Name: Salary, dtype: float64\n"
          ]
        }
      ]
    },
    {
      "cell_type": "code",
      "source": [
        "'''18. NumPy - Create a 5x5 Matrix\n",
        "Write a program to create a 5x5 NumPy matrix where:\n",
        "•   The diagonal elements are 1\n",
        "•   All other elements are 0\n",
        "Example:\n",
        "Output:\n",
        "[[1 0 0 0 0]\n",
        " [0 1 0 0 0]\n",
        " [0 0 1 0 0]\n",
        " [0 0 0 1 0]\n",
        " [0 0 0 0 1]]'''\n",
        "import numpy as np\n",
        "\n",
        "print(np.identity(5, dtype=int)  )\n",
        "\n",
        "new_list=[]\n",
        "for i in range(0,5):\n",
        "  new=[]\n",
        "  for j in range(0,5):\n",
        "\n",
        "    if(i==j):\n",
        "      new.append(1)\n",
        "    else:\n",
        "      new.append(0)\n",
        "    if(j==4):\n",
        "      new_list.append(new)\n",
        "\n",
        "print( new_list)"
      ],
      "metadata": {
        "id": "MhvvvkitvACr",
        "colab": {
          "base_uri": "https://localhost:8080/"
        },
        "outputId": "023da02a-d7de-4b77-b0cc-57f383ddd79f"
      },
      "execution_count": null,
      "outputs": [
        {
          "output_type": "stream",
          "name": "stdout",
          "text": [
            "[[1 0 0 0 0]\n",
            " [0 1 0 0 0]\n",
            " [0 0 1 0 0]\n",
            " [0 0 0 1 0]\n",
            " [0 0 0 0 1]]\n",
            "[[1, 0, 0, 0, 0], [0, 1, 0, 0, 0], [0, 0, 1, 0, 0], [0, 0, 0, 1, 0], [0, 0, 0, 0, 1]]\n"
          ]
        }
      ]
    },
    {
      "cell_type": "code",
      "source": [
        "'''19. NumPy - Element-wise Operations\n",
        "Given two NumPy arrays:\n",
        "import numpy as np\n",
        "a = np.array([1, 2, 3, 4])\n",
        "b = np.array([10, 20, 30, 40])\n",
        "Perform element-wise:\n",
        "1.  Addition\n",
        "2.  Multiplication\n",
        "3.  Power (a^b)\n",
        "Print the results.'''\n",
        "import numpy as np\n",
        "a = np.array([1, 2, 3, 4])\n",
        "b = np.array([10, 20, 30, 40])\n",
        "print(\"Addition:\", a+b)\n",
        "print(\"Multiplication:\", a*b)\n",
        "print(\"power:\", np.power(a,b))\n",
        "\n",
        "add=[]\n",
        "mul=[]\n",
        "power=[]\n",
        "for i in range(0,len(a)):\n",
        "  add.append(a[i]+b[i])\n",
        "  mul.append(a[i]*b[i])\n",
        "  power.append(a[i]**b[i])\n",
        "print(\"Manual:\",add,mul,power)"
      ],
      "metadata": {
        "id": "PGQCsDrEvMvj",
        "colab": {
          "base_uri": "https://localhost:8080/"
        },
        "outputId": "9a97a88b-5e67-4408-f541-87700ba2e725"
      },
      "execution_count": null,
      "outputs": [
        {
          "output_type": "stream",
          "name": "stdout",
          "text": [
            "Addition: [11 22 33 44]\n",
            "Multiplication: [ 10  40  90 160]\n",
            "power: [              1         1048576 205891132094649               0]\n",
            "Manual: [11, 22, 33, 44] [10, 40, 90, 160] [1, 1048576, 205891132094649, 0]\n"
          ]
        }
      ]
    },
    {
      "cell_type": "code",
      "source": [
        "'''20. NumPy - Find Index of Maximum Value\n",
        "Given:\n",
        "arr = np.array([10, 25, 39, 50, 19])\n",
        "Write a one-liner to find the index of the maximum value.'''\n",
        "import numpy as np\n",
        "arr = np.array([10, 25, 39, 50, 19])\n",
        "print(np.argmax(arr))"
      ],
      "metadata": {
        "colab": {
          "base_uri": "https://localhost:8080/"
        },
        "id": "jD0QbBZYvTJR",
        "outputId": "c25a1c6d-9327-400f-e7ee-3cf6d8b167bc"
      },
      "execution_count": null,
      "outputs": [
        {
          "output_type": "stream",
          "name": "stdout",
          "text": [
            "3\n"
          ]
        }
      ]
    }
  ]
}